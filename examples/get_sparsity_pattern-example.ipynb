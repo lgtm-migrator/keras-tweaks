{
 "cells": [
  {
   "cell_type": "code",
   "execution_count": 1,
   "metadata": {
    "ExecuteTime": {
     "end_time": "2018-09-18T08:12:38.232692Z",
     "start_time": "2018-09-18T08:12:38.223700Z"
    }
   },
   "outputs": [],
   "source": [
    "import sys\n",
    "sys.path.append('..')"
   ]
  },
  {
   "cell_type": "markdown",
   "metadata": {},
   "source": [
    "# Block Matrix"
   ]
  },
  {
   "cell_type": "code",
   "execution_count": 2,
   "metadata": {
    "ExecuteTime": {
     "end_time": "2018-09-18T08:12:38.249524Z",
     "start_time": "2018-09-18T08:12:38.237886Z"
    }
   },
   "outputs": [
    {
     "name": "stdout",
     "output_type": "stream",
     "text": [
      "tf.Tensor(\n",
      "[[ 1  2  3  0  0  0  0  0  0  0  0  0]\n",
      " [ 4  5  6  0  0  0  0  0  0  0  0  0]\n",
      " [ 7  8  9  0  0  0  0  0  0  0  0  0]\n",
      " [ 0  0  0 10  0  0  0  0  0  0  0  0]\n",
      " [ 0  0  0  0 11 12  0  0  0  0  0  0]\n",
      " [ 0  0  0  0 13 14  0  0  0  0  0  0]\n",
      " [ 0  0  0  0  0  0 15 16 17  0  0  0]\n",
      " [ 0  0  0  0  0  0 18 19 20  0  0  0]\n",
      " [ 0  0  0  0  0  0 21 22 23  0  0  0]\n",
      " [ 0  0  0  0  0  0  0  0  0 24  0  0]], shape=(10, 12), dtype=int32)\n"
     ]
    }
   ],
   "source": [
    "import tensorflow as tf\n",
    "from keras_tweaks import get_sparsity_pattern\n",
    "\n",
    "n_rows, n_cols = 10, 12\n",
    "mat_pattern = get_sparsity_pattern('block', min(n_rows, n_cols), block_sizes=[3, 1, 2])\n",
    "mat_values = range(1, len(mat_pattern)+1)\n",
    "\n",
    "mat = tf.sparse.SparseTensor(\n",
    "    dense_shape=(n_rows, n_cols),\n",
    "    indices=mat_pattern,\n",
    "    values=mat_values)\n",
    "\n",
    "print(tf.sparse.to_dense(mat))"
   ]
  },
  {
   "cell_type": "markdown",
   "metadata": {},
   "source": [
    "# tril und triu"
   ]
  },
  {
   "cell_type": "code",
   "execution_count": 3,
   "metadata": {},
   "outputs": [
    {
     "name": "stdout",
     "output_type": "stream",
     "text": [
      "tf.Tensor(\n",
      "[[ 0  1  2  3  4]\n",
      " [ 0  0  5  6  7]\n",
      " [ 0  0  0  8  9]\n",
      " [ 0  0  0  0 10]\n",
      " [ 0  0  0  0  0]], shape=(5, 5), dtype=int32)\n"
     ]
    }
   ],
   "source": [
    "mat_pattern = get_sparsity_pattern('triu', n=5, k=-1)\n",
    "\n",
    "mat = tf.sparse.SparseTensor(\n",
    "    dense_shape=(5, 5),\n",
    "    values=range(1, len(mat_pattern)+1),\n",
    "    indices=mat_pattern)\n",
    "\n",
    "print(tf.sparse.to_dense(mat))"
   ]
  },
  {
   "cell_type": "code",
   "execution_count": 4,
   "metadata": {},
   "outputs": [
    {
     "name": "stdout",
     "output_type": "stream",
     "text": [
      "tf.Tensor(\n",
      "[[ 0  0  0  0  0]\n",
      " [ 1  0  0  0  0]\n",
      " [ 2  5  0  0  0]\n",
      " [ 3  6  8  0  0]\n",
      " [ 4  7  9 10  0]], shape=(5, 5), dtype=int32)\n"
     ]
    }
   ],
   "source": [
    "# tril is the transposed of triu\n",
    "mat_pattern = tf.keras.backend.reverse(mat_pattern, axes=1)\n",
    "\n",
    "mat = tf.sparse.reorder(tf.sparse.SparseTensor(\n",
    "    dense_shape=(5, 5),\n",
    "    values=range(1, len(mat_pattern)+1),\n",
    "    indices=mat_pattern))\n",
    "\n",
    "print(tf.sparse.to_dense(mat))"
   ]
  },
  {
   "cell_type": "code",
   "execution_count": null,
   "metadata": {},
   "outputs": [],
   "source": []
  }
 ],
 "metadata": {
  "kernelspec": {
   "display_name": "Python 3",
   "language": "python",
   "name": "python3"
  },
  "language_info": {
   "codemirror_mode": {
    "name": "ipython",
    "version": 3
   },
   "file_extension": ".py",
   "mimetype": "text/x-python",
   "name": "python",
   "nbconvert_exporter": "python",
   "pygments_lexer": "ipython3",
   "version": "3.6.3"
  },
  "toc": {
   "base_numbering": 1,
   "nav_menu": {},
   "number_sections": true,
   "sideBar": true,
   "skip_h1_title": false,
   "title_cell": "Table of Contents",
   "title_sidebar": "Contents",
   "toc_cell": false,
   "toc_position": {},
   "toc_section_display": true,
   "toc_window_display": false
  },
  "varInspector": {
   "cols": {
    "lenName": 16,
    "lenType": 16,
    "lenVar": 40
   },
   "kernels_config": {
    "python": {
     "delete_cmd_postfix": "",
     "delete_cmd_prefix": "del ",
     "library": "var_list.py",
     "varRefreshCmd": "print(var_dic_list())"
    },
    "r": {
     "delete_cmd_postfix": ") ",
     "delete_cmd_prefix": "rm(",
     "library": "var_list.r",
     "varRefreshCmd": "cat(var_dic_list()) "
    }
   },
   "types_to_exclude": [
    "module",
    "function",
    "builtin_function_or_method",
    "instance",
    "_Feature"
   ],
   "window_display": false
  }
 },
 "nbformat": 4,
 "nbformat_minor": 4
}
