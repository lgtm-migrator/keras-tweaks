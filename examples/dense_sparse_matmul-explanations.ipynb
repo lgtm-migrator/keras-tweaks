{
 "cells": [
  {
   "cell_type": "code",
   "execution_count": 1,
   "metadata": {},
   "outputs": [
    {
     "name": "stdout",
     "output_type": "stream",
     "text": [
      "2.4.0\n"
     ]
    }
   ],
   "source": [
    "import tensorflow as tf\n",
    "import tensorflow.keras as keras\n",
    "print(tf.__version__)"
   ]
  },
  {
   "cell_type": "markdown",
   "metadata": {},
   "source": [
    "# Sparse Matrix Multiplication\n",
    "TensorFlow has a function [`tf.sparse.sparse_dense_matmul`](https://www.tensorflow.org/api_docs/python/tf/sparse/sparse_dense_matmul) that multiplies a sparse matrix with a dense matrix. In this exact order\n",
    "\n",
    "$$\n",
    "C_{den} = A_{sp} \\cdot B_{den} \n",
    "$$\n",
    "\n",
    "This allows Matrix-Vector multiplications that are common in Neural Networks, e.g.,\n",
    "\n",
    "$$\n",
    "h_t = f(W_{sp} \\cdot h_{t-1})\n",
    "$$\n",
    "\n",
    "However, it's also common to program it as Vector-Matrix multiplication. For example, in tf2/Keras multiplications are always coded this way\n",
    "\n",
    "$$\n",
    "h_t = f(h_{t-1} \\cdot W_{sp})\n",
    "$$\n",
    "\n",
    "However, `tf.sparse` has not implemented a `dense_sparse_matmul` yet. \n",
    "Thus, we develop wrapper function in the meanwhile."
   ]
  },
  {
   "cell_type": "markdown",
   "metadata": {},
   "source": [
    "## Toy Example"
   ]
  },
  {
   "cell_type": "code",
   "execution_count": 2,
   "metadata": {},
   "outputs": [
    {
     "name": "stdout",
     "output_type": "stream",
     "text": [
      "[1 2 3] \n",
      "\n",
      "[[0 1 0]\n",
      " [0 2 3]\n",
      " [4 0 5]]\n"
     ]
    }
   ],
   "source": [
    "h = tf.constant([1.0, 2.0, 3.0])\n",
    "W = tf.sparse.SparseTensor(\n",
    "    indices=([0, 1], [1, 1], [1, 2], [2, 0], [2, 2]),\n",
    "    values=[1.0, 2.0, 3.0, 4.0, 5.0],\n",
    "    dense_shape=(3,3))\n",
    "\n",
    "tf.print(h, \"\\n\")\n",
    "tf.print(tf.sparse.to_dense(W))"
   ]
  },
  {
   "cell_type": "markdown",
   "metadata": {},
   "source": [
    "## Sparse-Dense Multiplication\n",
    "The dense vector `h` is not a \"matrix\". \n",
    "It has a `shape=(3,)` what is expected to be `shape=(3,1)`."
   ]
  },
  {
   "cell_type": "code",
   "execution_count": 3,
   "metadata": {},
   "outputs": [
    {
     "data": {
      "text/plain": [
       "<tf.Tensor: shape=(3,), dtype=float32, numpy=array([1., 2., 3.], dtype=float32)>"
      ]
     },
     "execution_count": 3,
     "metadata": {},
     "output_type": "execute_result"
    }
   ],
   "source": [
    "h"
   ]
  },
  {
   "cell_type": "code",
   "execution_count": 4,
   "metadata": {},
   "outputs": [
    {
     "data": {
      "text/plain": [
       "<tf.Tensor: shape=(3, 1), dtype=float32, numpy=\n",
       "array([[1.],\n",
       "       [2.],\n",
       "       [3.]], dtype=float32)>"
      ]
     },
     "execution_count": 4,
     "metadata": {},
     "output_type": "execute_result"
    }
   ],
   "source": [
    "h_col = tf.reshape(h, (-1, 1))\n",
    "h_col"
   ]
  },
  {
   "cell_type": "markdown",
   "metadata": {},
   "source": [
    "The result `net` will also be a column vector with `shape=(3,1)`."
   ]
  },
  {
   "cell_type": "code",
   "execution_count": 5,
   "metadata": {},
   "outputs": [
    {
     "name": "stdout",
     "output_type": "stream",
     "text": [
      "[[2]\n",
      " [13]\n",
      " [19]]\n"
     ]
    }
   ],
   "source": [
    "net =  tf.sparse.sparse_dense_matmul(W, h_col)\n",
    "tf.print(net)"
   ]
  },
  {
   "cell_type": "markdown",
   "metadata": {},
   "source": [
    "## Dense-Sparse Multiplication\n",
    "In most NN libraries a row vector is used, e.g.,"
   ]
  },
  {
   "cell_type": "code",
   "execution_count": 6,
   "metadata": {},
   "outputs": [
    {
     "name": "stdout",
     "output_type": "stream",
     "text": [
      "[[1 2 3]]\n"
     ]
    },
    {
     "data": {
      "text/plain": [
       "<tf.Tensor: shape=(1, 3), dtype=float32, numpy=array([[1., 2., 3.]], dtype=float32)>"
      ]
     },
     "execution_count": 6,
     "metadata": {},
     "output_type": "execute_result"
    }
   ],
   "source": [
    "h_row = tf.reshape(h, (1, -1))\n",
    "tf.print(h_row)\n",
    "h_row"
   ]
  },
  {
   "cell_type": "markdown",
   "metadata": {},
   "source": [
    "Thus, we need to transpose the row vector to a column vector before applying `sparse_dense_matmul` and transpose the result back into a row vector"
   ]
  },
  {
   "cell_type": "code",
   "execution_count": 7,
   "metadata": {},
   "outputs": [
    {
     "name": "stdout",
     "output_type": "stream",
     "text": [
      "[[2 13 19]]\n"
     ]
    }
   ],
   "source": [
    "net =  tf.transpose(tf.sparse.sparse_dense_matmul(W, tf.transpose(h_row)))\n",
    "tf.print(net)"
   ]
  },
  {
   "cell_type": "markdown",
   "metadata": {},
   "source": [
    "## Function Wrapper\n",
    "see `keras_tweaks.dense_sparse_matmul`"
   ]
  },
  {
   "cell_type": "code",
   "execution_count": 8,
   "metadata": {},
   "outputs": [],
   "source": [
    "def dense_sparse_matmul(denV: tf.Tensor, spW: tf.SparseTensor) -> tf.Tensor:\n",
    "    # reshape to list of row vectors if neccessary\n",
    "    if denV.shape.ndims == 1:\n",
    "        denV = tf.reshape(denV, (1, -1))\n",
    "    # transpose -> multiply -> transpose back\n",
    "    return tf.transpose(tf.sparse.sparse_dense_matmul(spW, tf.transpose(denV)))"
   ]
  },
  {
   "cell_type": "code",
   "execution_count": 9,
   "metadata": {},
   "outputs": [
    {
     "name": "stdout",
     "output_type": "stream",
     "text": [
      "[[2 13 19]]\n"
     ]
    }
   ],
   "source": [
    "net = dense_sparse_matmul(h, W)\n",
    "tf.print(net)"
   ]
  }
 ],
 "metadata": {
  "kernelspec": {
   "display_name": "Python 3",
   "language": "python",
   "name": "python3"
  },
  "language_info": {
   "codemirror_mode": {
    "name": "ipython",
    "version": 3
   },
   "file_extension": ".py",
   "mimetype": "text/x-python",
   "name": "python",
   "nbconvert_exporter": "python",
   "pygments_lexer": "ipython3",
   "version": "3.6.3"
  }
 },
 "nbformat": 4,
 "nbformat_minor": 4
}
