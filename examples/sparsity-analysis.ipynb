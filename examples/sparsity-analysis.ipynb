{
 "cells": [
  {
   "cell_type": "code",
   "execution_count": 1,
   "metadata": {
    "ExecuteTime": {
     "end_time": "2018-09-18T08:12:38.232692Z",
     "start_time": "2018-09-18T08:12:38.223700Z"
    }
   },
   "outputs": [],
   "source": [
    "import sys\n",
    "sys.path.append('..')"
   ]
  },
  {
   "cell_type": "code",
   "execution_count": 15,
   "metadata": {
    "ExecuteTime": {
     "end_time": "2018-09-18T08:12:38.249524Z",
     "start_time": "2018-09-18T08:12:38.237886Z"
    }
   },
   "outputs": [],
   "source": [
    "import tensorflow as tf\n",
    "from keras_tweaks import (\n",
    "    get_sparsity_pattern,\n",
    "    shortest_path_to_origin,\n",
    "    feedback_signal_patterns\n",
    ")\n",
    "import random"
   ]
  },
  {
   "cell_type": "code",
   "execution_count": 3,
   "metadata": {},
   "outputs": [],
   "source": [
    "dim = 10"
   ]
  },
  {
   "cell_type": "markdown",
   "metadata": {},
   "source": [
    "# Block Matrix"
   ]
  },
  {
   "cell_type": "code",
   "execution_count": 16,
   "metadata": {
    "ExecuteTime": {
     "end_time": "2018-09-18T08:12:38.249524Z",
     "start_time": "2018-09-18T08:12:38.237886Z"
    }
   },
   "outputs": [
    {
     "name": "stdout",
     "output_type": "stream",
     "text": [
      "30\n",
      "tf.Tensor(\n",
      "[[ 1  2  3  4  0  0  0  0  0  0]\n",
      " [ 5  6  7  8  0  0  0  0  0  0]\n",
      " [ 9 10 11 12  0  0  0  0  0  0]\n",
      " [13 14 15 16  0  0  0  0  0  0]\n",
      " [ 0  0  0  0 17  0  0  0  0  0]\n",
      " [ 0  0  0  0  0 18 19  0  0  0]\n",
      " [ 0  0  0  0  0 20 21  0  0  0]\n",
      " [ 0  0  0  0  0  0  0 22 23 24]\n",
      " [ 0  0  0  0  0  0  0 25 26 27]\n",
      " [ 0  0  0  0  0  0  0 28 29 30]], shape=(10, 10), dtype=int32)\n"
     ]
    }
   ],
   "source": [
    "mat_pattern = get_sparsity_pattern('block', dim, block_sizes=[4, 1, 2])\n",
    "mat_values = range(1, len(mat_pattern)+1)\n",
    "print(len(mat_pattern))\n",
    "\n",
    "mat = tf.sparse.SparseTensor(\n",
    "    dense_shape=(dim, dim),\n",
    "    indices=mat_pattern,\n",
    "    values=mat_values)\n",
    "\n",
    "print(tf.sparse.to_dense(mat))"
   ]
  },
  {
   "cell_type": "markdown",
   "metadata": {},
   "source": [
    "## always immediate feedback\n",
    "In recurrent kernel, a block matrix pattern consist basically of several smaller dense matrices.\n",
    "Thus, information from state $i$ bounces back from state $j$ immediatly after one recursion step."
   ]
  },
  {
   "cell_type": "code",
   "execution_count": 5,
   "metadata": {},
   "outputs": [
    {
     "data": {
      "text/plain": [
       "[1, 1, 1, 1, 1, 1, 1, 1, 1, 1]"
      ]
     },
     "execution_count": 5,
     "metadata": {},
     "output_type": "execute_result"
    }
   ],
   "source": [
    "pathlens = shortest_path_to_origin(W=mat, max_recur=dim)\n",
    "pathlens"
   ]
  },
  {
   "cell_type": "code",
   "execution_count": 6,
   "metadata": {},
   "outputs": [
    {
     "data": {
      "text/plain": [
       "array([[1, 1, 1, 1, 1, 1, 1, 1, 1, 1],\n",
       "       [1, 1, 1, 1, 1, 1, 1, 1, 1, 1],\n",
       "       [1, 1, 1, 1, 1, 1, 1, 1, 1, 1],\n",
       "       [1, 1, 1, 1, 1, 1, 1, 1, 1, 1],\n",
       "       [1, 1, 1, 1, 1, 1, 1, 1, 1, 1],\n",
       "       [1, 1, 1, 1, 1, 1, 1, 1, 1, 1],\n",
       "       [1, 1, 1, 1, 1, 1, 1, 1, 1, 1],\n",
       "       [1, 1, 1, 1, 1, 1, 1, 1, 1, 1],\n",
       "       [1, 1, 1, 1, 1, 1, 1, 1, 1, 1],\n",
       "       [1, 1, 1, 1, 1, 1, 1, 1, 1, 1]], dtype=int8)"
      ]
     },
     "execution_count": 6,
     "metadata": {},
     "output_type": "execute_result"
    }
   ],
   "source": [
    "signals = feedback_signal_patterns(W=mat, max_recur=dim)\n",
    "signals"
   ]
  },
  {
   "cell_type": "markdown",
   "metadata": {},
   "source": [
    "# Triangular Matrix"
   ]
  },
  {
   "cell_type": "markdown",
   "metadata": {},
   "source": [
    "## triu"
   ]
  },
  {
   "cell_type": "code",
   "execution_count": 7,
   "metadata": {},
   "outputs": [
    {
     "name": "stdout",
     "output_type": "stream",
     "text": [
      "45\n",
      "tf.Tensor(\n",
      "[[ 0  1  2  3  4  5  6  7  8  9]\n",
      " [ 0  0 10 11 12 13 14 15 16 17]\n",
      " [ 0  0  0 18 19 20 21 22 23 24]\n",
      " [ 0  0  0  0 25 26 27 28 29 30]\n",
      " [ 0  0  0  0  0 31 32 33 34 35]\n",
      " [ 0  0  0  0  0  0 36 37 38 39]\n",
      " [ 0  0  0  0  0  0  0 40 41 42]\n",
      " [ 0  0  0  0  0  0  0  0 43 44]\n",
      " [ 0  0  0  0  0  0  0  0  0 45]\n",
      " [ 0  0  0  0  0  0  0  0  0  0]], shape=(10, 10), dtype=int32)\n"
     ]
    }
   ],
   "source": [
    "mat_pattern = get_sparsity_pattern('triu', n=dim, k=-1)\n",
    "print(len(mat_pattern))\n",
    "\n",
    "mat = tf.sparse.SparseTensor(\n",
    "    dense_shape=(dim, dim),\n",
    "    values=range(1, len(mat_pattern)+1),\n",
    "    indices=mat_pattern)\n",
    "\n",
    "print(tf.sparse.to_dense(mat))"
   ]
  },
  {
   "cell_type": "markdown",
   "metadata": {},
   "source": [
    "## tril"
   ]
  },
  {
   "cell_type": "code",
   "execution_count": 8,
   "metadata": {},
   "outputs": [
    {
     "name": "stdout",
     "output_type": "stream",
     "text": [
      "45\n",
      "tf.Tensor(\n",
      "[[ 0  0  0  0  0  0  0  0  0  0]\n",
      " [ 1  0  0  0  0  0  0  0  0  0]\n",
      " [ 2 10  0  0  0  0  0  0  0  0]\n",
      " [ 3 11 18  0  0  0  0  0  0  0]\n",
      " [ 4 12 19 25  0  0  0  0  0  0]\n",
      " [ 5 13 20 26 31  0  0  0  0  0]\n",
      " [ 6 14 21 27 32 36  0  0  0  0]\n",
      " [ 7 15 22 28 33 37 40  0  0  0]\n",
      " [ 8 16 23 29 34 38 41 43  0  0]\n",
      " [ 9 17 24 30 35 39 42 44 45  0]], shape=(10, 10), dtype=int32)\n"
     ]
    }
   ],
   "source": [
    "# tril is the transposed of triu\n",
    "mat_pattern = tf.keras.backend.reverse(mat_pattern, axes=1)\n",
    "print(len(mat_pattern))\n",
    "\n",
    "mat = tf.sparse.reorder(tf.sparse.SparseTensor(\n",
    "    dense_shape=(dim, dim),\n",
    "    values=range(1, len(mat_pattern)+1),\n",
    "    indices=mat_pattern))\n",
    "\n",
    "print(tf.sparse.to_dense(mat))"
   ]
  },
  {
   "cell_type": "markdown",
   "metadata": {},
   "source": [
    "## no feedback connections\n",
    "There are no feedback connections to the origin in triangular recurrent kernels."
   ]
  },
  {
   "cell_type": "code",
   "execution_count": 9,
   "metadata": {},
   "outputs": [
    {
     "name": "stdout",
     "output_type": "stream",
     "text": [
      "[None, None, None, None, None, None, None, None, None, None]\n"
     ]
    }
   ],
   "source": [
    "pathlens = shortest_path_to_origin(W=mat, max_recur=dim)\n",
    "print(pathlens)"
   ]
  },
  {
   "cell_type": "code",
   "execution_count": 10,
   "metadata": {},
   "outputs": [
    {
     "name": "stdout",
     "output_type": "stream",
     "text": [
      "[[0 0 0 0 0 0 0 0 0 0]\n",
      " [0 0 0 0 0 0 0 0 0 0]\n",
      " [0 0 0 0 0 0 0 0 0 0]\n",
      " [0 0 0 0 0 0 0 0 0 0]\n",
      " [0 0 0 0 0 0 0 0 0 0]\n",
      " [0 0 0 0 0 0 0 0 0 0]\n",
      " [0 0 0 0 0 0 0 0 0 0]\n",
      " [0 0 0 0 0 0 0 0 0 0]\n",
      " [0 0 0 0 0 0 0 0 0 0]\n",
      " [0 0 0 0 0 0 0 0 0 0]]\n"
     ]
    }
   ],
   "source": [
    "signals = feedback_signal_patterns(W=mat, max_recur=dim)\n",
    "print(signals)"
   ]
  },
  {
   "cell_type": "markdown",
   "metadata": {},
   "source": [
    "# Circular pattern"
   ]
  },
  {
   "cell_type": "markdown",
   "metadata": {},
   "source": [
    "## The smallest recurrent pattern\n",
    "Information from input state $i$ return to its origin after $t=dim$ steps."
   ]
  },
  {
   "cell_type": "code",
   "execution_count": 11,
   "metadata": {},
   "outputs": [
    {
     "name": "stdout",
     "output_type": "stream",
     "text": [
      "10\n",
      "tf.Tensor(\n",
      "[[ 0  0  0  0  0  0  0  0  0  1]\n",
      " [ 2  0  0  0  0  0  0  0  0  0]\n",
      " [ 0  3  0  0  0  0  0  0  0  0]\n",
      " [ 0  0  4  0  0  0  0  0  0  0]\n",
      " [ 0  0  0  5  0  0  0  0  0  0]\n",
      " [ 0  0  0  0  6  0  0  0  0  0]\n",
      " [ 0  0  0  0  0  7  0  0  0  0]\n",
      " [ 0  0  0  0  0  0  8  0  0  0]\n",
      " [ 0  0  0  0  0  0  0  9  0  0]\n",
      " [ 0  0  0  0  0  0  0  0 10  0]], shape=(10, 10), dtype=int32) \n",
      "\n",
      "[10, 10, 10, 10, 10, 10, 10, 10, 10, 10] \n",
      "\n",
      "[[0 0 0 0 0 0 0 0 0 1]\n",
      " [0 0 0 0 0 0 0 0 0 1]\n",
      " [0 0 0 0 0 0 0 0 0 1]\n",
      " [0 0 0 0 0 0 0 0 0 1]\n",
      " [0 0 0 0 0 0 0 0 0 1]\n",
      " [0 0 0 0 0 0 0 0 0 1]\n",
      " [0 0 0 0 0 0 0 0 0 1]\n",
      " [0 0 0 0 0 0 0 0 0 1]\n",
      " [0 0 0 0 0 0 0 0 0 1]\n",
      " [0 0 0 0 0 0 0 0 0 1]]\n"
     ]
    }
   ],
   "source": [
    "mat_pattern = get_sparsity_pattern('circle', n=dim, offsets=[1])\n",
    "mat_values = range(1, len(mat_pattern)+1)\n",
    "print(len(mat_pattern))\n",
    "\n",
    "mat = tf.sparse.SparseTensor(\n",
    "    dense_shape=(dim, dim),\n",
    "    indices=mat_pattern,\n",
    "    values=mat_values)\n",
    "\n",
    "print(tf.sparse.to_dense(mat), \"\\n\")\n",
    "\n",
    "pathlens = shortest_path_to_origin(W=mat, max_recur=dim)\n",
    "print(pathlens, \"\\n\")\n",
    "\n",
    "signals = feedback_signal_patterns(W=mat, max_recur=dim)\n",
    "print(signals)"
   ]
  },
  {
   "cell_type": "markdown",
   "metadata": {},
   "source": [
    "## Similar types of processes\n",
    "The circular pattern will simulate similar type of processes."
   ]
  },
  {
   "cell_type": "code",
   "execution_count": 12,
   "metadata": {},
   "outputs": [
    {
     "name": "stdout",
     "output_type": "stream",
     "text": [
      "20\n",
      "tf.Tensor(\n",
      "[[ 0  0  0  0  0  0  0  1  0  2]\n",
      " [ 3  0  0  0  0  0  0  0  4  0]\n",
      " [ 0  5  0  0  0  0  0  0  0  6]\n",
      " [ 7  0  8  0  0  0  0  0  0  0]\n",
      " [ 0  9  0 10  0  0  0  0  0  0]\n",
      " [ 0  0 11  0 12  0  0  0  0  0]\n",
      " [ 0  0  0 13  0 14  0  0  0  0]\n",
      " [ 0  0  0  0 15  0 16  0  0  0]\n",
      " [ 0  0  0  0  0 17  0 18  0  0]\n",
      " [ 0  0  0  0  0  0 19  0 20  0]], shape=(10, 10), dtype=int32) \n",
      "\n",
      "[4, 4, 4, 4, 4, 4, 4, 4, 4, 4] \n",
      "\n",
      "[[0 0 0 1 0 1 0 1 0 1]\n",
      " [0 0 0 1 0 1 0 1 0 1]\n",
      " [0 0 0 1 0 1 0 1 0 1]\n",
      " [0 0 0 1 0 1 0 1 0 1]\n",
      " [0 0 0 1 0 1 0 1 0 1]\n",
      " [0 0 0 1 0 1 0 1 0 1]\n",
      " [0 0 0 1 0 1 0 1 0 1]\n",
      " [0 0 0 1 0 1 0 1 0 1]\n",
      " [0 0 0 1 0 1 0 1 0 1]\n",
      " [0 0 0 1 0 1 0 1 0 1]]\n"
     ]
    }
   ],
   "source": [
    "mat_pattern = get_sparsity_pattern('circle', n=dim, offsets=[1, 3])\n",
    "mat_values = range(1, len(mat_pattern)+1)\n",
    "print(len(mat_pattern))\n",
    "\n",
    "mat = tf.sparse.SparseTensor(\n",
    "    dense_shape=(dim, dim),\n",
    "    indices=mat_pattern,\n",
    "    values=mat_values)\n",
    "\n",
    "print(tf.sparse.to_dense(mat), \"\\n\")\n",
    "\n",
    "pathlens = shortest_path_to_origin(W=mat, max_recur=dim)\n",
    "print(pathlens, \"\\n\")\n",
    "\n",
    "signals = feedback_signal_patterns(W=mat, max_recur=dim)\n",
    "print(signals)"
   ]
  },
  {
   "cell_type": "markdown",
   "metadata": {},
   "source": [
    "# Random sparsity pattern\n",
    "The shortest paths back to the origin states is more diverse."
   ]
  },
  {
   "cell_type": "code",
   "execution_count": 13,
   "metadata": {},
   "outputs": [
    {
     "name": "stdout",
     "output_type": "stream",
     "text": [
      "20\n",
      "tf.Tensor(\n",
      "[[ 1  0  0  0  0  0  0  2  0  0]\n",
      " [ 0  0  0  0  3  0  0  0  4  0]\n",
      " [ 0  5  0  6  0  0  0  0  0  0]\n",
      " [ 0  0  0  0  0  0  0  0  7  8]\n",
      " [ 9  0  0  0  0  0  0  0  0 10]\n",
      " [ 0  0  0  0  0  0 11 12  0  0]\n",
      " [ 0 13  0  0  0 14  0  0  0  0]\n",
      " [ 0  0 15  0 16  0  0  0  0  0]\n",
      " [ 0  0 17 18  0  0  0  0  0  0]\n",
      " [ 0  0  0  0  0 19 20  0  0  0]], shape=(10, 10), dtype=int32) \n",
      "\n",
      "[1, 3, 3, 2, 3, 2, 2, 3, 2, 4] \n",
      "\n",
      "[[1 1 1 1 1 1 1 1 1 1]\n",
      " [0 0 1 1 1 1 1 1 1 1]\n",
      " [0 0 1 0 1 1 1 1 1 1]\n",
      " [0 1 1 1 1 1 1 1 1 1]\n",
      " [0 0 1 1 1 1 1 1 1 1]\n",
      " [0 1 0 1 1 1 1 1 1 1]\n",
      " [0 1 0 1 1 1 1 1 1 1]\n",
      " [0 0 1 1 1 1 1 1 1 1]\n",
      " [0 1 1 1 1 1 1 1 1 1]\n",
      " [0 0 0 1 1 1 1 1 1 1]]\n"
     ]
    }
   ],
   "source": [
    "random.seed(23)\n",
    "mat_pattern = get_sparsity_pattern('random', r=dim, c=dim, pct=0.20)\n",
    "mat_values = range(1, len(mat_pattern)+1)\n",
    "print(len(mat_pattern))\n",
    "\n",
    "mat = tf.sparse.SparseTensor(\n",
    "    dense_shape=(dim, dim),\n",
    "    indices=mat_pattern,\n",
    "    values=mat_values)\n",
    "\n",
    "print(tf.sparse.to_dense(mat), \"\\n\")\n",
    "\n",
    "pathlens = shortest_path_to_origin(W=mat, max_recur=dim)\n",
    "print(pathlens, \"\\n\")\n",
    "\n",
    "signals = feedback_signal_patterns(W=mat, max_recur=dim)\n",
    "print(signals)"
   ]
  },
  {
   "cell_type": "markdown",
   "metadata": {},
   "source": [
    "# Random without diagonal elements"
   ]
  },
  {
   "cell_type": "code",
   "execution_count": 14,
   "metadata": {},
   "outputs": [
    {
     "name": "stdout",
     "output_type": "stream",
     "text": [
      "20\n",
      "tf.Tensor(\n",
      "[[ 0  0  1  0  0  0  2  0  0  0]\n",
      " [ 3  0  0  0  0  0  0  0  4  0]\n",
      " [ 0  0  0  0  5  0  0  6  0  0]\n",
      " [ 0  0  7  0  0  8  0  0  0  0]\n",
      " [ 0  0  0  9  0  0  0  0  0 10]\n",
      " [ 0 11  0 12  0  0  0  0  0  0]\n",
      " [ 0  0  0  0  0  0  0  0 13 14]\n",
      " [ 0 15  0  0  0  0 16  0  0  0]\n",
      " [ 0  0  0  0 17  0  0 18  0  0]\n",
      " [19  0  0  0  0 20  0  0  0  0]], shape=(10, 10), dtype=int32) \n",
      "\n",
      "[3, 3, 3, 2, 3, 2, 3, 3, 3, 3] \n",
      "\n",
      "[[0 0 1 1 1 1 1 1 1 1]\n",
      " [0 0 1 1 1 1 1 1 1 1]\n",
      " [0 0 1 1 1 1 1 1 1 1]\n",
      " [0 1 1 1 1 1 1 1 1 1]\n",
      " [0 0 1 1 1 1 1 1 1 1]\n",
      " [0 1 0 1 1 1 1 1 1 1]\n",
      " [0 0 1 0 1 1 1 1 1 1]\n",
      " [0 0 1 1 1 1 1 1 1 1]\n",
      " [0 0 1 0 1 1 1 1 1 1]\n",
      " [0 0 1 1 1 1 1 1 1 1]]\n"
     ]
    }
   ],
   "source": [
    "random.seed(0)\n",
    "mat_pattern = get_sparsity_pattern('random2', n=dim, pct=0.20)\n",
    "mat_values = range(1, len(mat_pattern)+1)\n",
    "print(len(mat_pattern))\n",
    "\n",
    "mat = tf.sparse.SparseTensor(\n",
    "    dense_shape=(dim, dim),\n",
    "    indices=mat_pattern,\n",
    "    values=mat_values)\n",
    "\n",
    "print(tf.sparse.to_dense(mat), \"\\n\")\n",
    "\n",
    "pathlens = shortest_path_to_origin(W=mat, max_recur=dim)\n",
    "print(pathlens, \"\\n\")\n",
    "\n",
    "signals = feedback_signal_patterns(W=mat, max_recur=dim)\n",
    "print(signals)"
   ]
  },
  {
   "cell_type": "code",
   "execution_count": null,
   "metadata": {},
   "outputs": [],
   "source": []
  }
 ],
 "metadata": {
  "kernelspec": {
   "display_name": "Python 3 (ipykernel)",
   "language": "python",
   "name": "python3"
  },
  "language_info": {
   "codemirror_mode": {
    "name": "ipython",
    "version": 3
   },
   "file_extension": ".py",
   "mimetype": "text/x-python",
   "name": "python",
   "nbconvert_exporter": "python",
   "pygments_lexer": "ipython3",
   "version": "3.9.7"
  },
  "toc": {
   "base_numbering": 1,
   "nav_menu": {},
   "number_sections": true,
   "sideBar": true,
   "skip_h1_title": false,
   "title_cell": "Table of Contents",
   "title_sidebar": "Contents",
   "toc_cell": false,
   "toc_position": {},
   "toc_section_display": true,
   "toc_window_display": false
  },
  "varInspector": {
   "cols": {
    "lenName": 16,
    "lenType": 16,
    "lenVar": 40
   },
   "kernels_config": {
    "python": {
     "delete_cmd_postfix": "",
     "delete_cmd_prefix": "del ",
     "library": "var_list.py",
     "varRefreshCmd": "print(var_dic_list())"
    },
    "r": {
     "delete_cmd_postfix": ") ",
     "delete_cmd_prefix": "rm(",
     "library": "var_list.r",
     "varRefreshCmd": "cat(var_dic_list()) "
    }
   },
   "types_to_exclude": [
    "module",
    "function",
    "builtin_function_or_method",
    "instance",
    "_Feature"
   ],
   "window_display": false
  }
 },
 "nbformat": 4,
 "nbformat_minor": 4
}
